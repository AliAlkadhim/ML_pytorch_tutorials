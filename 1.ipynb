{
 "cells": [
  {
   "cell_type": "code",
   "execution_count": 1,
   "id": "278819e0-fadf-4cff-91a9-d4f64ec0cb13",
   "metadata": {},
   "outputs": [],
   "source": [
    "import torch\n",
    "import pandas as pd\n",
    "# to convert from df format to tensor format, do torch.tensor(df[something].values)\n"
   ]
  },
  {
   "cell_type": "code",
   "execution_count": 2,
   "id": "02a16e65-c364-4e22-92f9-c498495b12f0",
   "metadata": {},
   "outputs": [
    {
     "data": {
      "text/plain": [
       "tensor([[ 0.,  1.,  2.,  3.],\n",
       "        [ 4.,  5.,  6.,  7.],\n",
       "        [ 8.,  9., 10., 11.],\n",
       "        [12., 13., 14., 15.],\n",
       "        [16., 17., 18., 19.]])"
      ]
     },
     "execution_count": 2,
     "metadata": {},
     "output_type": "execute_result"
    }
   ],
   "source": [
    "A = torch.arange(20, dtype=torch.float32).reshape(5, 4); A"
   ]
  },
  {
   "cell_type": "code",
   "execution_count": 3,
   "id": "f7639182-1ce4-496b-ad59-ada909e3c6c7",
   "metadata": {},
   "outputs": [
    {
     "data": {
      "text/plain": [
       "tensor([[ 0.,  1.,  2.,  3.],\n",
       "        [ 4.,  5.,  6.,  7.],\n",
       "        [ 8.,  9., 10., 11.],\n",
       "        [12., 13., 14., 15.],\n",
       "        [16., 17., 18., 19.]])"
      ]
     },
     "execution_count": 3,
     "metadata": {},
     "output_type": "execute_result"
    }
   ],
   "source": [
    "B = A.clone() ; B"
   ]
  },
  {
   "cell_type": "markdown",
   "id": "6eaac84a-8917-44b8-b12f-65ca0bfb27df",
   "metadata": {},
   "source": [
    "Element-wise multimplication, or the Hadamard product, is"
   ]
  },
  {
   "cell_type": "code",
   "execution_count": 4,
   "id": "eec5f414-0e48-43be-ae48-7ca57f32e8d9",
   "metadata": {},
   "outputs": [
    {
     "data": {
      "text/plain": [
       "tensor([[  0.,   1.,   4.,   9.],\n",
       "        [ 16.,  25.,  36.,  49.],\n",
       "        [ 64.,  81., 100., 121.],\n",
       "        [144., 169., 196., 225.],\n",
       "        [256., 289., 324., 361.]])"
      ]
     },
     "execution_count": 4,
     "metadata": {},
     "output_type": "execute_result"
    }
   ],
   "source": [
    "A * B"
   ]
  },
  {
   "cell_type": "markdown",
   "id": "c3dc77ea-c520-444e-9ff0-c24f9a267442",
   "metadata": {},
   "source": [
    "A useful operation we perform on tensors (matrices) is calculating the sum of their elements. The sum of a vector $\\mathbf{x}$ of length $N$ is $\\sum_{i=1}^N x_i$. In pytorcch this is just x.sum()."
   ]
  },
  {
   "cell_type": "code",
   "execution_count": 5,
   "id": "3ad1c99d-a2be-4b78-8ad9-75695a7d6159",
   "metadata": {},
   "outputs": [
    {
     "data": {
      "text/plain": [
       "(tensor([0., 1., 2., 3.]), tensor(6.))"
      ]
     },
     "execution_count": 5,
     "metadata": {},
     "output_type": "execute_result"
    }
   ],
   "source": [
    "x = torch.arange(4, dtype=torch.float32)\n",
    "x, x.sum()"
   ]
  },
  {
   "cell_type": "markdown",
   "id": "243c30ed-5993-46c0-aabe-ab6ea331221e",
   "metadata": {},
   "source": [
    "We can express sums over the elements of tensors of arbitrary shape. For example, the sum of the elements of an $m\\times n$ matrix $\\mathbf{A}$ could be written as $\\sum_{i=1}^{m} \\sum_{j=1}^{n} a_{i j}$ "
   ]
  },
  {
   "cell_type": "code",
   "execution_count": 6,
   "id": "8a83cd23-bebc-4afb-862e-2abc3664300b",
   "metadata": {},
   "outputs": [
    {
     "data": {
      "text/plain": [
       "(torch.Size([5, 4]), tensor(190.))"
      ]
     },
     "execution_count": 6,
     "metadata": {},
     "output_type": "execute_result"
    }
   ],
   "source": [
    "A.shape, A.sum()"
   ]
  },
  {
   "cell_type": "markdown",
   "id": "9b1727d2-1ca4-42e0-8709-c777698e41af",
   "metadata": {},
   "source": [
    "the sum reduces a tensor along all its axes to a scalar."
   ]
  },
  {
   "cell_type": "code",
   "execution_count": 7,
   "id": "16c02e4a-8cee-4163-98fb-e0813fef058b",
   "metadata": {},
   "outputs": [
    {
     "data": {
      "text/plain": [
       "tensor(190.)"
      ]
     },
     "execution_count": 7,
     "metadata": {},
     "output_type": "execute_result"
    }
   ],
   "source": [
    "C = A.sum(); C"
   ]
  },
  {
   "cell_type": "markdown",
   "id": "fb94c5ee-ff4d-4b61-9310-0c97ddcfbb83",
   "metadata": {},
   "source": [
    "We can also sum along specific axes; to reduce the row dimension (axis 0) by summing up elements of all the rows, we specify axis=0, to sum along coumns, axis=1.\n",
    "\n",
    "numel is the number of elements"
   ]
  },
  {
   "cell_type": "code",
   "execution_count": 8,
   "id": "89e94667-f3c7-4a3b-afb1-cfee8ac9ad22",
   "metadata": {},
   "outputs": [
    {
     "data": {
      "text/plain": [
       "20"
      ]
     },
     "execution_count": 8,
     "metadata": {},
     "output_type": "execute_result"
    }
   ],
   "source": [
    "A.numel()"
   ]
  },
  {
   "cell_type": "code",
   "execution_count": 9,
   "id": "5fefa38f-0468-4cdf-ba04-4a10d68bd2f9",
   "metadata": {},
   "outputs": [
    {
     "data": {
      "text/plain": [
       "tensor([[ 6.],\n",
       "        [22.],\n",
       "        [38.],\n",
       "        [54.],\n",
       "        [70.]])"
      ]
     },
     "execution_count": 9,
     "metadata": {},
     "output_type": "execute_result"
    }
   ],
   "source": [
    "sum_A = A.sum(axis=1, keepdims=True)\n",
    "sum_A"
   ]
  },
  {
   "cell_type": "markdown",
   "id": "5e6ae30b-0352-410a-bbfe-64a2cdc0cc8a",
   "metadata": {},
   "source": [
    "matrix multimplication"
   ]
  },
  {
   "cell_type": "code",
   "execution_count": 10,
   "id": "5d5fc308-a6a8-4484-9a97-ef15749cddd8",
   "metadata": {},
   "outputs": [
    {
     "data": {
      "text/plain": [
       "tensor([[ 6.,  6.,  6.],\n",
       "        [22., 22., 22.],\n",
       "        [38., 38., 38.],\n",
       "        [54., 54., 54.],\n",
       "        [70., 70., 70.]])"
      ]
     },
     "execution_count": 10,
     "metadata": {},
     "output_type": "execute_result"
    }
   ],
   "source": [
    "B = torch.ones(4, 3)\n",
    "torch.mm(A, B)\n",
    "\\"
   ]
  },
  {
   "cell_type": "code",
   "execution_count": null,
   "id": "fd906c53-a7d6-4891-951b-b282d6c2b046",
   "metadata": {},
   "outputs": [],
   "source": []
  }
 ],
 "metadata": {
  "kernelspec": {
   "display_name": "Python 3 (ipykernel)",
   "language": "python",
   "name": "python3"
  },
  "language_info": {
   "codemirror_mode": {
    "name": "ipython",
    "version": 3
   },
   "file_extension": ".py",
   "mimetype": "text/x-python",
   "name": "python",
   "nbconvert_exporter": "python",
   "pygments_lexer": "ipython3",
   "version": "3.7.7"
  }
 },
 "nbformat": 4,
 "nbformat_minor": 5
}
